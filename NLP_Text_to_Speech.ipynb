{
  "cells": [
    {
      "cell_type": "code",
      "execution_count": 40,
      "metadata": {
        "id": "6nYI9lHZplIt"
      },
      "outputs": [],
      "source": [
        "import nltk"
      ]
    },
    {
      "cell_type": "code",
      "execution_count": 41,
      "metadata": {
        "id": "mhSsjJGdp5-S"
      },
      "outputs": [],
      "source": [
        "import nltk.corpus"
      ]
    },
    {
      "cell_type": "code",
      "execution_count": 42,
      "metadata": {
        "id": "PlLx3-hhp5_x"
      },
      "outputs": [],
      "source": [
        "#Tokenization"
      ]
    },
    {
      "cell_type": "code",
      "execution_count": 43,
      "metadata": {
        "id": "ONC_PZ2up6C6"
      },
      "outputs": [],
      "source": [
        "from nltk.tokenize import word_tokenize"
      ]
    },
    {
      "cell_type": "code",
      "execution_count": 44,
      "metadata": {
        "id": "wRTJitXrp6Ek"
      },
      "outputs": [],
      "source": [
        "chess = \"Samay Raina is the best chess streamer in the world\""
      ]
    },
    {
      "cell_type": "code",
      "source": [
        "import nltk\n",
        "nltk.download('punkt')"
      ],
      "metadata": {
        "colab": {
          "base_uri": "https://localhost:8080/"
        },
        "id": "e3R10EjGbu1h",
        "outputId": "b8e04c37-6817-45c4-f3b2-8ac1feae8352"
      },
      "execution_count": 45,
      "outputs": [
        {
          "output_type": "stream",
          "name": "stderr",
          "text": [
            "[nltk_data] Downloading package punkt to /root/nltk_data...\n",
            "[nltk_data]   Package punkt is already up-to-date!\n"
          ]
        },
        {
          "output_type": "execute_result",
          "data": {
            "text/plain": [
              "True"
            ]
          },
          "metadata": {},
          "execution_count": 45
        }
      ]
    },
    {
      "cell_type": "code",
      "execution_count": 46,
      "metadata": {
        "colab": {
          "base_uri": "https://localhost:8080/"
        },
        "id": "mX8GVFiMqDZs",
        "outputId": "8c9df6ad-caea-4a1b-a1d9-47c1843fc392"
      },
      "outputs": [
        {
          "output_type": "execute_result",
          "data": {
            "text/plain": [
              "['Samay',\n",
              " 'Raina',\n",
              " 'is',\n",
              " 'the',\n",
              " 'best',\n",
              " 'chess',\n",
              " 'streamer',\n",
              " 'in',\n",
              " 'the',\n",
              " 'world']"
            ]
          },
          "metadata": {},
          "execution_count": 46
        }
      ],
      "source": [
        "word_tokenize(chess)"
      ]
    },
    {
      "cell_type": "code",
      "execution_count": 47,
      "metadata": {
        "id": "YJHN3Tjup6JJ"
      },
      "outputs": [],
      "source": [
        "#sentence tokenizer\n",
        "from nltk.tokenize import sent_tokenize"
      ]
    },
    {
      "cell_type": "code",
      "execution_count": 48,
      "metadata": {
        "id": "BWPBJOcyqLV8"
      },
      "outputs": [],
      "source": [
        "chess2 = \"Samay Raina is the best chess streamer in the world. Sagar Shah is the best chess coach in the world\""
      ]
    },
    {
      "cell_type": "code",
      "execution_count": 49,
      "metadata": {
        "id": "Txa8gOSkqLYS",
        "colab": {
          "base_uri": "https://localhost:8080/"
        },
        "outputId": "a87374f9-9fff-4785-8971-bba1eaedf96c"
      },
      "outputs": [
        {
          "output_type": "execute_result",
          "data": {
            "text/plain": [
              "['Samay Raina is the best chess streamer in the world.',\n",
              " 'Sagar Shah is the best chess coach in the world']"
            ]
          },
          "metadata": {},
          "execution_count": 49
        }
      ],
      "source": [
        "sent_tokenize(chess2)"
      ]
    },
    {
      "cell_type": "code",
      "execution_count": 50,
      "metadata": {
        "id": "WDikb7ZfqT6Q",
        "colab": {
          "base_uri": "https://localhost:8080/"
        },
        "outputId": "dacfd353-e69b-47ce-bdc0-a2d7301f1455"
      },
      "outputs": [
        {
          "output_type": "execute_result",
          "data": {
            "text/plain": [
              "10"
            ]
          },
          "metadata": {},
          "execution_count": 50
        }
      ],
      "source": [
        "#Checking the number of tokens\n",
        "len(word_tokenize(chess))"
      ]
    },
    {
      "cell_type": "code",
      "execution_count": 51,
      "metadata": {
        "id": "IiNm9hwBqT7q"
      },
      "outputs": [],
      "source": [
        "#bigrams and n-grams"
      ]
    },
    {
      "cell_type": "code",
      "execution_count": 52,
      "metadata": {
        "id": "9xxi-Ft-qT-V"
      },
      "outputs": [],
      "source": [
        "astronaut = \"Can anybody hear me or am I talking to myself? My mind is running empty in the search for someone else\""
      ]
    },
    {
      "cell_type": "code",
      "execution_count": 53,
      "metadata": {
        "id": "EvQ-Of3wqa0z"
      },
      "outputs": [],
      "source": [
        "astronaut_token=(word_tokenize(astronaut))"
      ]
    },
    {
      "cell_type": "code",
      "execution_count": 54,
      "metadata": {
        "colab": {
          "base_uri": "https://localhost:8080/"
        },
        "id": "x4h5e_gwqa2O",
        "outputId": "b528c378-7e55-4868-a3c8-7dbbb16bd3ba"
      },
      "outputs": [
        {
          "output_type": "execute_result",
          "data": {
            "text/plain": [
              "[('Can', 'anybody'),\n",
              " ('anybody', 'hear'),\n",
              " ('hear', 'me'),\n",
              " ('me', 'or'),\n",
              " ('or', 'am'),\n",
              " ('am', 'I'),\n",
              " ('I', 'talking'),\n",
              " ('talking', 'to'),\n",
              " ('to', 'myself'),\n",
              " ('myself', '?'),\n",
              " ('?', 'My'),\n",
              " ('My', 'mind'),\n",
              " ('mind', 'is'),\n",
              " ('is', 'running'),\n",
              " ('running', 'empty'),\n",
              " ('empty', 'in'),\n",
              " ('in', 'the'),\n",
              " ('the', 'search'),\n",
              " ('search', 'for'),\n",
              " ('for', 'someone'),\n",
              " ('someone', 'else')]"
            ]
          },
          "metadata": {},
          "execution_count": 54
        }
      ],
      "source": [
        "list(nltk.bigrams(astronaut_token))"
      ]
    },
    {
      "cell_type": "code",
      "execution_count": 55,
      "metadata": {
        "colab": {
          "base_uri": "https://localhost:8080/"
        },
        "id": "7fK2edWQqa7T",
        "outputId": "8941f88b-286c-4908-bcc8-4cb6bbdc0090"
      },
      "outputs": [
        {
          "output_type": "execute_result",
          "data": {
            "text/plain": [
              "[('Can', 'anybody', 'hear'),\n",
              " ('anybody', 'hear', 'me'),\n",
              " ('hear', 'me', 'or'),\n",
              " ('me', 'or', 'am'),\n",
              " ('or', 'am', 'I'),\n",
              " ('am', 'I', 'talking'),\n",
              " ('I', 'talking', 'to'),\n",
              " ('talking', 'to', 'myself'),\n",
              " ('to', 'myself', '?'),\n",
              " ('myself', '?', 'My'),\n",
              " ('?', 'My', 'mind'),\n",
              " ('My', 'mind', 'is'),\n",
              " ('mind', 'is', 'running'),\n",
              " ('is', 'running', 'empty'),\n",
              " ('running', 'empty', 'in'),\n",
              " ('empty', 'in', 'the'),\n",
              " ('in', 'the', 'search'),\n",
              " ('the', 'search', 'for'),\n",
              " ('search', 'for', 'someone'),\n",
              " ('for', 'someone', 'else')]"
            ]
          },
          "metadata": {},
          "execution_count": 55
        }
      ],
      "source": [
        "list(nltk.trigrams(astronaut_token))"
      ]
    },
    {
      "cell_type": "code",
      "execution_count": 56,
      "metadata": {
        "colab": {
          "base_uri": "https://localhost:8080/"
        },
        "id": "hywLPIe-qgk9",
        "outputId": "ae837d30-ecfa-4f5f-c87b-c1c00b4ed78f"
      },
      "outputs": [
        {
          "output_type": "execute_result",
          "data": {
            "text/plain": [
              "[('Can', 'anybody', 'hear', 'me', 'or'),\n",
              " ('anybody', 'hear', 'me', 'or', 'am'),\n",
              " ('hear', 'me', 'or', 'am', 'I'),\n",
              " ('me', 'or', 'am', 'I', 'talking'),\n",
              " ('or', 'am', 'I', 'talking', 'to'),\n",
              " ('am', 'I', 'talking', 'to', 'myself'),\n",
              " ('I', 'talking', 'to', 'myself', '?'),\n",
              " ('talking', 'to', 'myself', '?', 'My'),\n",
              " ('to', 'myself', '?', 'My', 'mind'),\n",
              " ('myself', '?', 'My', 'mind', 'is'),\n",
              " ('?', 'My', 'mind', 'is', 'running'),\n",
              " ('My', 'mind', 'is', 'running', 'empty'),\n",
              " ('mind', 'is', 'running', 'empty', 'in'),\n",
              " ('is', 'running', 'empty', 'in', 'the'),\n",
              " ('running', 'empty', 'in', 'the', 'search'),\n",
              " ('empty', 'in', 'the', 'search', 'for'),\n",
              " ('in', 'the', 'search', 'for', 'someone'),\n",
              " ('the', 'search', 'for', 'someone', 'else')]"
            ]
          },
          "metadata": {},
          "execution_count": 56
        }
      ],
      "source": [
        "list(nltk.ngrams(astronaut_token,5))"
      ]
    },
    {
      "cell_type": "code",
      "execution_count": 57,
      "metadata": {
        "id": "_uI1JK3uqkE5"
      },
      "outputs": [],
      "source": [
        "#Stemming"
      ]
    },
    {
      "cell_type": "code",
      "execution_count": 58,
      "metadata": {
        "id": "cwTwtFpjqkGc"
      },
      "outputs": [],
      "source": [
        "from nltk.stem import PorterStemmer"
      ]
    },
    {
      "cell_type": "code",
      "execution_count": 59,
      "metadata": {
        "id": "TA28vqciqkJK"
      },
      "outputs": [],
      "source": [
        "my_stem = PorterStemmer()"
      ]
    },
    {
      "cell_type": "code",
      "execution_count": 60,
      "metadata": {
        "colab": {
          "base_uri": "https://localhost:8080/",
          "height": 35
        },
        "id": "CLZsGv8CqgnY",
        "outputId": "9d7abf13-125e-4aab-d917-cc909d8c2746"
      },
      "outputs": [
        {
          "output_type": "execute_result",
          "data": {
            "text/plain": [
              "'eat'"
            ],
            "application/vnd.google.colaboratory.intrinsic+json": {
              "type": "string"
            }
          },
          "metadata": {},
          "execution_count": 60
        }
      ],
      "source": [
        "my_stem.stem(\"eating\")"
      ]
    },
    {
      "cell_type": "code",
      "execution_count": 61,
      "metadata": {
        "colab": {
          "base_uri": "https://localhost:8080/",
          "height": 35
        },
        "id": "nftkC1s4qrpU",
        "outputId": "1da551ad-db6a-4c11-c371-a0873902a563"
      },
      "outputs": [
        {
          "output_type": "execute_result",
          "data": {
            "text/plain": [
              "'go'"
            ],
            "application/vnd.google.colaboratory.intrinsic+json": {
              "type": "string"
            }
          },
          "metadata": {},
          "execution_count": 61
        }
      ],
      "source": [
        "my_stem.stem(\"going\")"
      ]
    },
    {
      "cell_type": "code",
      "execution_count": 62,
      "metadata": {
        "id": "wcLdDGSCqrrp",
        "colab": {
          "base_uri": "https://localhost:8080/",
          "height": 35
        },
        "outputId": "ce938662-d6cb-446d-cbbb-679900d478c2"
      },
      "outputs": [
        {
          "output_type": "execute_result",
          "data": {
            "text/plain": [
              "'shop'"
            ],
            "application/vnd.google.colaboratory.intrinsic+json": {
              "type": "string"
            }
          },
          "metadata": {},
          "execution_count": 62
        }
      ],
      "source": [
        "my_stem.stem(\"shopping\")"
      ]
    },
    {
      "cell_type": "code",
      "execution_count": 63,
      "metadata": {
        "id": "HRNDPjpDqr0h"
      },
      "outputs": [],
      "source": [
        "#pos-tagging"
      ]
    },
    {
      "cell_type": "code",
      "execution_count": 64,
      "metadata": {
        "id": "S2FVLwMBqydo"
      },
      "outputs": [],
      "source": [
        "tom =\"Tom Hanks is the best actor in the world\""
      ]
    },
    {
      "cell_type": "code",
      "execution_count": 65,
      "metadata": {
        "id": "M7DRwzlbqyfB"
      },
      "outputs": [],
      "source": [
        "tom_token = word_tokenize(tom)"
      ]
    },
    {
      "cell_type": "code",
      "source": [
        "import nltk\n",
        "nltk.download('averaged_perceptron_tagger')"
      ],
      "metadata": {
        "colab": {
          "base_uri": "https://localhost:8080/"
        },
        "id": "5qHPboetcHke",
        "outputId": "1485cdb0-68cb-4328-e1ed-305acfd9a1f6"
      },
      "execution_count": 66,
      "outputs": [
        {
          "output_type": "stream",
          "name": "stderr",
          "text": [
            "[nltk_data] Downloading package averaged_perceptron_tagger to\n",
            "[nltk_data]     /root/nltk_data...\n",
            "[nltk_data]   Package averaged_perceptron_tagger is already up-to-\n",
            "[nltk_data]       date!\n"
          ]
        },
        {
          "output_type": "execute_result",
          "data": {
            "text/plain": [
              "True"
            ]
          },
          "metadata": {},
          "execution_count": 66
        }
      ]
    },
    {
      "cell_type": "code",
      "execution_count": 67,
      "metadata": {
        "id": "FevQ8tKZqyj9",
        "colab": {
          "base_uri": "https://localhost:8080/"
        },
        "outputId": "3c4cf9cb-8ddc-422d-f24c-a2413eb11b2c"
      },
      "outputs": [
        {
          "output_type": "execute_result",
          "data": {
            "text/plain": [
              "[('Tom', 'NNP'),\n",
              " ('Hanks', 'NNP'),\n",
              " ('is', 'VBZ'),\n",
              " ('the', 'DT'),\n",
              " ('best', 'JJS'),\n",
              " ('actor', 'NN'),\n",
              " ('in', 'IN'),\n",
              " ('the', 'DT'),\n",
              " ('world', 'NN')]"
            ]
          },
          "metadata": {},
          "execution_count": 67
        }
      ],
      "source": [
        "nltk.pos_tag(tom_token)"
      ]
    },
    {
      "cell_type": "code",
      "execution_count": 68,
      "metadata": {
        "id": "u9OFM7E2q5di"
      },
      "outputs": [],
      "source": [
        "#Named entity recognition"
      ]
    },
    {
      "cell_type": "code",
      "execution_count": 69,
      "metadata": {
        "id": "Nj559ZFkq5f0"
      },
      "outputs": [],
      "source": [
        "from nltk import ne_chunk"
      ]
    },
    {
      "cell_type": "code",
      "execution_count": 70,
      "metadata": {
        "id": "oRODVcbZq9ZB"
      },
      "outputs": [],
      "source": [
        "president = \"Barack Obama was the 44th President of America\""
      ]
    },
    {
      "cell_type": "code",
      "execution_count": 71,
      "metadata": {
        "id": "yAyxM8fbq9ab"
      },
      "outputs": [],
      "source": [
        "president_token = word_tokenize(president)"
      ]
    },
    {
      "cell_type": "code",
      "execution_count": 72,
      "metadata": {
        "id": "phjvDtR9q9fd"
      },
      "outputs": [],
      "source": [
        "president_pos = nltk.pos_tag(president_token)"
      ]
    },
    {
      "cell_type": "code",
      "source": [
        "import nltk\n",
        "nltk.download('maxent_ne_chunker')"
      ],
      "metadata": {
        "colab": {
          "base_uri": "https://localhost:8080/"
        },
        "id": "2BsdIpYjcSRr",
        "outputId": "2ca0d0bc-7d6f-40ca-99fe-3e0cd172de1e"
      },
      "execution_count": 73,
      "outputs": [
        {
          "output_type": "stream",
          "name": "stderr",
          "text": [
            "[nltk_data] Downloading package maxent_ne_chunker to\n",
            "[nltk_data]     /root/nltk_data...\n",
            "[nltk_data]   Package maxent_ne_chunker is already up-to-date!\n"
          ]
        },
        {
          "output_type": "execute_result",
          "data": {
            "text/plain": [
              "True"
            ]
          },
          "metadata": {},
          "execution_count": 73
        }
      ]
    },
    {
      "cell_type": "code",
      "source": [
        "import nltk\n",
        "nltk.download('words')"
      ],
      "metadata": {
        "colab": {
          "base_uri": "https://localhost:8080/"
        },
        "id": "NJlqnWHocbuV",
        "outputId": "4844058b-dbe5-4513-80a6-3f0436140c03"
      },
      "execution_count": 74,
      "outputs": [
        {
          "output_type": "stream",
          "name": "stderr",
          "text": [
            "[nltk_data] Downloading package words to /root/nltk_data...\n",
            "[nltk_data]   Package words is already up-to-date!\n"
          ]
        },
        {
          "output_type": "execute_result",
          "data": {
            "text/plain": [
              "True"
            ]
          },
          "metadata": {},
          "execution_count": 74
        }
      ]
    },
    {
      "cell_type": "code",
      "execution_count": 75,
      "metadata": {
        "id": "a-BmlOzPrEQk",
        "colab": {
          "base_uri": "https://localhost:8080/"
        },
        "outputId": "9ca04fb9-aa51-4ff4-9e92-6190e5255b40"
      },
      "outputs": [
        {
          "output_type": "stream",
          "name": "stdout",
          "text": [
            "(S\n",
            "  (PERSON Barack/NNP)\n",
            "  (PERSON Obama/NNP)\n",
            "  was/VBD\n",
            "  the/DT\n",
            "  44th/JJ\n",
            "  President/NNP\n",
            "  of/IN\n",
            "  (GPE America/NNP))\n"
          ]
        }
      ],
      "source": [
        "print(ne_chunk(president_pos))"
      ]
    },
    {
      "cell_type": "code",
      "source": [
        "!pip install gtts"
      ],
      "metadata": {
        "colab": {
          "base_uri": "https://localhost:8080/"
        },
        "id": "6WNC82xLckPp",
        "outputId": "fc74e6ee-dcc4-419f-cfcd-7436ad638662"
      },
      "execution_count": 76,
      "outputs": [
        {
          "output_type": "stream",
          "name": "stdout",
          "text": [
            "Requirement already satisfied: gtts in /usr/local/lib/python3.10/dist-packages (2.5.1)\n",
            "Requirement already satisfied: requests<3,>=2.27 in /usr/local/lib/python3.10/dist-packages (from gtts) (2.31.0)\n",
            "Requirement already satisfied: click<8.2,>=7.1 in /usr/local/lib/python3.10/dist-packages (from gtts) (8.1.7)\n",
            "Requirement already satisfied: charset-normalizer<4,>=2 in /usr/local/lib/python3.10/dist-packages (from requests<3,>=2.27->gtts) (3.3.2)\n",
            "Requirement already satisfied: idna<4,>=2.5 in /usr/local/lib/python3.10/dist-packages (from requests<3,>=2.27->gtts) (3.7)\n",
            "Requirement already satisfied: urllib3<3,>=1.21.1 in /usr/local/lib/python3.10/dist-packages (from requests<3,>=2.27->gtts) (2.0.7)\n",
            "Requirement already satisfied: certifi>=2017.4.17 in /usr/local/lib/python3.10/dist-packages (from requests<3,>=2.27->gtts) (2024.6.2)\n"
          ]
        }
      ]
    },
    {
      "cell_type": "code",
      "execution_count": 77,
      "metadata": {
        "id": "GcPivmWCrH-J",
        "colab": {
          "base_uri": "https://localhost:8080/",
          "height": 75
        },
        "outputId": "1bf56ee9-aa99-479c-a757-b4e2894e1275"
      },
      "outputs": [
        {
          "output_type": "execute_result",
          "data": {
            "text/plain": [
              "<IPython.lib.display.Audio object>"
            ],
            "text/html": [
              "\n",
              "                <audio  controls=\"controls\" autoplay=\"autoplay\">\n",
              "                    <source src=\"data:audio/x-wav;base64,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\" type=\"audio/x-wav\" />\n",
              "                    Your browser does not support the audio element.\n",
              "                </audio>\n",
              "              "
            ]
          },
          "metadata": {},
          "execution_count": 77
        }
      ],
      "source": [
        "from gtts import gTTS\n",
        "from IPython.display import Audio\n",
        "tts = gTTS('Hello Atul, How are ')\n",
        "tts.save('1.wav')\n",
        "sound_file = '1.wav'\n",
        "Audio(sound_file, autoplay=True)"
      ]
    },
    {
      "cell_type": "code",
      "execution_count": 77,
      "metadata": {
        "id": "2wjKfyEarIVO"
      },
      "outputs": [],
      "source": []
    }
  ],
  "metadata": {
    "colab": {
      "provenance": []
    },
    "kernelspec": {
      "display_name": "Python 3",
      "name": "python3"
    },
    "language_info": {
      "name": "python"
    }
  },
  "nbformat": 4,
  "nbformat_minor": 0
}